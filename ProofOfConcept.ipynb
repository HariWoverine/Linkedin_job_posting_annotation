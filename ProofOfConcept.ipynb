{
 "cells": [
  {
   "cell_type": "code",
   "execution_count": 106,
   "id": "88955921-7092-43a5-8605-c6e6de70e1b5",
   "metadata": {},
   "outputs": [],
   "source": [
    "# Importing Libraries\n",
    "from bs4 import BeautifulSoup\n",
    "import requests\n",
    "from nltk.tokenize import sent_tokenize"
   ]
  },
  {
   "cell_type": "code",
   "execution_count": 104,
   "id": "b49e8477-2cae-489d-a6c2-4f2152e23f36",
   "metadata": {},
   "outputs": [],
   "source": [
    "def get_soup_object(url):\n",
    "    \"\"\"\n",
    "    Function to return the soup object for the input URL\n",
    "    Input: URL (string)\n",
    "    output: BeautifulSoup object\n",
    "    \"\"\"\n",
    "    page = requests.get(URL)\n",
    "    soup = BeautifulSoup(page.content, \"lxml\")\n",
    "    return soup\n",
    "\n",
    "\n",
    "def get_title(soup):\n",
    "    \"\"\"\n",
    "    Function to get the title of the job from the imput soup object\n",
    "    Input: BeautifulSoup object\n",
    "    output: Job Title (string)\n",
    "    \"\"\"\n",
    "    return soup.find('h1').text\n",
    "\n",
    "def get_job_desc(soup):\n",
    "    \"\"\"\n",
    "    Function to return the job description for a given soup object\n",
    "    Input: BeautifulSoup object\n",
    "    output: Job Title (list of strings)\n",
    "    \"\"\"\n",
    "    div = soup.find('div', {'class': 'show-more-less-html__markup'})\n",
    "    sentences = [i.strip() for i in sent_tokenize(text = div.text)]\n",
    "    return sentences\n",
    "\n",
    "def get_job_features(soup):\n",
    "    \"\"\"\n",
    "    Function to get some features related to the job\n",
    "    Input: BeautifulSoup object\n",
    "    output: features about job (dictionary)\n",
    "    \"\"\"\n",
    "    feat = soup.find('ul', {'class': \"description__job-criteria-list\"})\n",
    "    feats = [i.strip() for i in re.split(r'(\\n){2}', feat.text)]\n",
    "    feats = [i for i in feats if len(i)>5]\n",
    "    feat_dict = {}\n",
    "    for i in range(0,len(feats)-1,2):\n",
    "        feat_dict[feats[i]] = feats[i+1]\n",
    "    return feat_dict"
   ]
  },
  {
   "cell_type": "code",
   "execution_count": 107,
   "id": "b4ecc087-0b81-47fd-8987-133fcafd52bc",
   "metadata": {},
   "outputs": [
    {
     "data": {
      "text/plain": [
       "'<!DOCTYPE html>\\n<html lang=\"en\">\\n<head>\\n<meta content=\"d_jobs_guest_details\" name=\"pageKey\"/>\\n<!-- --> <meta content=\"en_US\" name=\"locale\"/>\\n<meta data-app-version=\"2.0.1256\" data-browser-id=\"a3969546-942c-4ea8-85ef-8f3363ae0911\" data-call-tree-id=\"AAX07iodg5biJ3gDHJeOrA==\" data-disable-jsbeacon-pagekey-suffix=\"false\" data-enable-page-view-heartbeat-tracking=\"\" data-member-id=\"0\" data-multiproduct-name=\"jobs-guest-frontend\" data-page-instance=\"urn:li:page:d_jobs_guest_details;xCGLgpAlSQegEDrA1VzPQw==\" data-service-name=\"jobs-guest-frontend\" id=\"config\"/>\\n<link href=\"https://ca.linkedin.com/jobs/view/data-consultant-at-lancesoft-inc-3464918474\" rel=\"canonical\"/>\\n<!-- --><!-- -->\\n<!-- -->\\n<!-- -->\\n<meta content=\"https://ca.linkedin.com/jobs/view/data-consultant-at-lancesoft-inc-3464918474\" property=\"al:android:url\"/>\\n<meta content=\"com.linkedin.android\" property=\"al:android:package\"/>\\n<meta content=\"LinkedIn\" property=\"al:android:app_name\"/>\\n<meta content=\"https://ca.linkedin.com/jobs/vi'"
      ]
     },
     "execution_count": 107,
     "metadata": {},
     "output_type": "execute_result"
    }
   ],
   "source": [
    "URL = \"https://ca.linkedin.com/jobs/view/data-consultant-at-lancesoft-inc-3464918474?refId=RyUuys20i1QivQXdjkYKeg%3D%3D&trackingId=J9MA0ZsIJZs2QVY7FA4AKw%3D%3D&trk=public_jobs_topcard-title\"\n",
    "soup = get_soup_object(URL)\n",
    "str(soup)[:1000]"
   ]
  },
  {
   "cell_type": "markdown",
   "id": "8051e07e-0473-42bd-a830-7a7880e34799",
   "metadata": {},
   "source": [
    "### Getting Title of Job Posting"
   ]
  },
  {
   "cell_type": "code",
   "execution_count": 108,
   "id": "d6bf524a-bae7-4c9e-a747-1bf7e66db4ad",
   "metadata": {},
   "outputs": [
    {
     "data": {
      "text/plain": [
       "'Data Consultant'"
      ]
     },
     "execution_count": 108,
     "metadata": {},
     "output_type": "execute_result"
    }
   ],
   "source": [
    "get_title(soup)"
   ]
  },
  {
   "cell_type": "markdown",
   "id": "ca23272b-4d47-4a9a-a515-a42f5aec8839",
   "metadata": {},
   "source": [
    "### Getting raw text from job description\n",
    "##### This is the document that we would annotate to get skills out of the job description."
   ]
  },
  {
   "cell_type": "code",
   "execution_count": 112,
   "id": "9e920e11-29b6-4660-aa48-1b29fd66a416",
   "metadata": {},
   "outputs": [
    {
     "data": {
      "text/plain": [
       "['Must be located in British Columbia:Specific Qualifications or Experience Required:Technical Expertise: Hands-on extensive experience designing and implementing Purview Hands-on experience with Data Governance processes and procedures Hands-on experience building PoCs to develop understanding of data governance tooling Overall capability: Strong analytical, problem solving and system analysis skills including the ability to comprehend complex large scale environment operational issues, preferably in health care Excellent interpersonal, oral and written communication skills with the ability to communicate complex ideas in simple terminology Excellent time management skills with the ability to organize and prioritize work Persistence and a positive attitude are essential Ability to work in a dynamic and agile environment with changing requirements and priorities Ability to take direction to define and implement solutions as requirements are being identified and finalized Keeping the big picture in mind to ensure that the pieces make up the final solution Hands-on experience with major Cloud providers’ services (Azure preferred)Services Required:Based on the initial session and the priorities of DARE’s Data Governance team, the PoC is expected to:Demonstrate the automation of data discovery, lineage, and classification from sources supported by Purview and used in PANDADemonstrate the automation of SSIS/SSAS packages scanning for table lineageDemonstrate integration with metadata management tools (e.g.',\n",
       " 'Mauro Data Mapper) and master data management tools (e.g.',\n",
       " 'MS SQL Server Master Data Services, Profisee)Demonstrate Purview extensibility using the Purview and/or Apache Atlas API From the perspective of a Data Governance user (and not a Data Engineer)Demonstrate searching and general Purview usageDemonstrate business term management and assignmentDemonstrate out-of-the-box classifications and the creation/maintenance of custom classificationsDemonstrate access role management, data controls/consumption']"
      ]
     },
     "execution_count": 112,
     "metadata": {},
     "output_type": "execute_result"
    }
   ],
   "source": [
    "get_job_desc(soup)"
   ]
  },
  {
   "cell_type": "markdown",
   "id": "eb0a3bd0-2215-4b1a-b176-ee63436b1844",
   "metadata": {},
   "source": [
    "### Getting raw features related to Job description\n",
    "##### These are just some extra features (not to be confused with annotation, we are manually annotating skills required for the job)"
   ]
  },
  {
   "cell_type": "code",
   "execution_count": 110,
   "id": "66d4b13b-23ff-4ff2-bf58-fdb086dc756c",
   "metadata": {},
   "outputs": [
    {
     "data": {
      "text/plain": [
       "{'Seniority level': 'Mid-Senior level',\n",
       " 'Employment type': 'Contract',\n",
       " 'Job function': 'Other and Health Care Provider',\n",
       " 'Industries': 'IT Services and IT Consulting and Hospitals and Health Care'}"
      ]
     },
     "execution_count": 110,
     "metadata": {},
     "output_type": "execute_result"
    }
   ],
   "source": [
    "get_job_features(soup)"
   ]
  },
  {
   "cell_type": "code",
   "execution_count": null,
   "id": "ca6be090-fd67-45ad-b6a6-45e1199f70f4",
   "metadata": {},
   "outputs": [],
   "source": []
  }
 ],
 "metadata": {
  "kernelspec": {
   "display_name": "Python [conda env:573]",
   "language": "python",
   "name": "conda-env-573-py"
  },
  "language_info": {
   "codemirror_mode": {
    "name": "ipython",
    "version": 3
   },
   "file_extension": ".py",
   "mimetype": "text/x-python",
   "name": "python",
   "nbconvert_exporter": "python",
   "pygments_lexer": "ipython3",
   "version": "3.10.6"
  }
 },
 "nbformat": 4,
 "nbformat_minor": 5
}
